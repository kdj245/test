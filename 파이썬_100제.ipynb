{
  "nbformat": 4,
  "nbformat_minor": 0,
  "metadata": {
    "colab": {
      "name": "파이썬 100제.ipynb",
      "provenance": [],
      "authorship_tag": "ABX9TyOxXJWq62M805SqdLEgbL9r",
      "include_colab_link": true
    },
    "kernelspec": {
      "name": "python3",
      "display_name": "Python 3"
    },
    "language_info": {
      "name": "python"
    }
  },
  "cells": [
    {
      "cell_type": "markdown",
      "metadata": {
        "id": "view-in-github",
        "colab_type": "text"
      },
      "source": [
        "<a href=\"https://colab.research.google.com/github/kdj245/test/blob/master/%ED%8C%8C%EC%9D%B4%EC%8D%AC_100%EC%A0%9C.ipynb\" target=\"_parent\"><img src=\"https://colab.research.google.com/assets/colab-badge.svg\" alt=\"Open In Colab\"/></a>"
      ]
    },
    {
      "cell_type": "markdown",
      "metadata": {
        "id": "dAarDlqPjdgn"
      },
      "source": [
        "# 1번"
      ]
    },
    {
      "cell_type": "code",
      "metadata": {
        "id": "o19RGXBBeC4m",
        "colab": {
          "base_uri": "https://localhost:8080/"
        },
        "outputId": "3071bdea-e25f-43c3-bdc0-f0a86e96e088"
      },
      "source": [
        "nums = [100, 200, 300, 400, 500]\n",
        "#nums = nums[:3]\n",
        "#print(dir(nums))\n",
        "nums.pop()\n",
        "nums.pop()\n",
        "nums"
      ],
      "execution_count": 3,
      "outputs": [
        {
          "output_type": "execute_result",
          "data": {
            "text/plain": [
              "[100, 200, 300]"
            ]
          },
          "metadata": {
            "tags": []
          },
          "execution_count": 3
        }
      ]
    },
    {
      "cell_type": "markdown",
      "metadata": {
        "id": "R-pJCgcljpG-"
      },
      "source": [
        "# 2번"
      ]
    },
    {
      "cell_type": "code",
      "metadata": {
        "colab": {
          "base_uri": "https://localhost:8080/"
        },
        "id": "obF_wofIjs6B",
        "outputId": "00558310-08e1-4020-95c5-fe39d7328a86"
      },
      "source": [
        "I = [200, 100, 300]\n",
        "I.insert(2, 10000)\n",
        "print(I)"
      ],
      "execution_count": 4,
      "outputs": [
        {
          "output_type": "stream",
          "text": [
            "[200, 100, 10000, 300]\n"
          ],
          "name": "stdout"
        }
      ]
    },
    {
      "cell_type": "markdown",
      "metadata": {
        "id": "6ITVkfPPkB1t"
      },
      "source": [
        "# 3번"
      ]
    },
    {
      "cell_type": "code",
      "metadata": {
        "colab": {
          "base_uri": "https://localhost:8080/"
        },
        "id": "800XruFSkDdF",
        "outputId": "4b2fa524-350c-4846-c920-377025dc2422"
      },
      "source": [
        "I = [100, 200, 300]\n",
        "print(type(I))\n",
        "print(dir(I))"
      ],
      "execution_count": 5,
      "outputs": [
        {
          "output_type": "stream",
          "text": [
            "<class 'list'>\n",
            "['__add__', '__class__', '__contains__', '__delattr__', '__delitem__', '__dir__', '__doc__', '__eq__', '__format__', '__ge__', '__getattribute__', '__getitem__', '__gt__', '__hash__', '__iadd__', '__imul__', '__init__', '__init_subclass__', '__iter__', '__le__', '__len__', '__lt__', '__mul__', '__ne__', '__new__', '__reduce__', '__reduce_ex__', '__repr__', '__reversed__', '__rmul__', '__setattr__', '__setitem__', '__sizeof__', '__str__', '__subclasshook__', 'append', 'clear', 'copy', 'count', 'extend', 'index', 'insert', 'pop', 'remove', 'reverse', 'sort']\n"
          ],
          "name": "stdout"
        }
      ]
    },
    {
      "cell_type": "markdown",
      "metadata": {
        "id": "JLY3RaKakPjH"
      },
      "source": [
        "# 4번"
      ]
    },
    {
      "cell_type": "code",
      "metadata": {
        "colab": {
          "base_uri": "https://localhost:8080/"
        },
        "id": "_mssi1RpkTYn",
        "outputId": "b14c8db6-f684-454a-ac8f-f0ca3d52a555"
      },
      "source": [
        "a = '''hello world'''\n",
        "print(type(a))"
      ],
      "execution_count": 6,
      "outputs": [
        {
          "output_type": "stream",
          "text": [
            "<class 'str'>\n"
          ],
          "name": "stdout"
        }
      ]
    },
    {
      "cell_type": "code",
      "metadata": {
        "colab": {
          "base_uri": "https://localhost:8080/",
          "height": 36
        },
        "id": "L8jh9zlakiZe",
        "outputId": "1bbe60ed-48d6-4e40-9666-35fee7619a67"
      },
      "source": [
        "a"
      ],
      "execution_count": 7,
      "outputs": [
        {
          "output_type": "execute_result",
          "data": {
            "application/vnd.google.colaboratory.intrinsic+json": {
              "type": "string"
            },
            "text/plain": [
              "'hello world'"
            ]
          },
          "metadata": {
            "tags": []
          },
          "execution_count": 7
        }
      ]
    },
    {
      "cell_type": "markdown",
      "metadata": {
        "id": "s1YpfIy4kkst"
      },
      "source": [
        "# 5번"
      ]
    },
    {
      "cell_type": "code",
      "metadata": {
        "colab": {
          "base_uri": "https://localhost:8080/"
        },
        "id": "szmsuE4Pkndm",
        "outputId": "71d329f6-6943-412c-87ee-f644453619ae"
      },
      "source": [
        "a = 10\n",
        "b = 2\n",
        "for i in range(1, 5, 2):\n",
        "  a += i\n",
        "\n",
        "  print(a + b)"
      ],
      "execution_count": 18,
      "outputs": [
        {
          "output_type": "stream",
          "text": [
            "13\n",
            "16\n"
          ],
          "name": "stdout"
        }
      ]
    },
    {
      "cell_type": "markdown",
      "metadata": {
        "id": "b-DJ0WqNlX82"
      },
      "source": [
        "# 6번"
      ]
    },
    {
      "cell_type": "code",
      "metadata": {
        "colab": {
          "base_uri": "https://localhost:8080/"
        },
        "id": "G4fGNijslZTt",
        "outputId": "a839426c-6cf6-4cdd-c1fa-ae6b8a84e39c"
      },
      "source": [
        "print(bool(\" \"))\n",
        "print(bool(\"\"))\n",
        "print(bool([\" \"]))\n",
        "print(bool([]))\n",
        "print(bool(None))"
      ],
      "execution_count": 14,
      "outputs": [
        {
          "output_type": "stream",
          "text": [
            "True\n",
            "False\n",
            "True\n",
            "False\n",
            "False\n"
          ],
          "name": "stdout"
        }
      ]
    },
    {
      "cell_type": "markdown",
      "metadata": {
        "id": "_Ur1I3EZmOu-"
      },
      "source": [
        "# 7"
      ]
    },
    {
      "cell_type": "code",
      "metadata": {
        "colab": {
          "base_uri": "https://localhost:8080/"
        },
        "id": "vCHwAuRtmQyT",
        "outputId": "6e41bb44-03af-4876-c9c3-0d64e38fbd99"
      },
      "source": [
        "한글 = 100\n",
        "한글"
      ],
      "execution_count": 20,
      "outputs": [
        {
          "output_type": "execute_result",
          "data": {
            "text/plain": [
              "100"
            ]
          },
          "metadata": {
            "tags": []
          },
          "execution_count": 20
        }
      ]
    },
    {
      "cell_type": "code",
      "metadata": {
        "id": "cas7DBGpmUZk"
      },
      "source": [
        "beutiful_is_better_than_ugly = 100\n",
        "beutifulisbetterthanugly = 100"
      ],
      "execution_count": 23,
      "outputs": []
    },
    {
      "cell_type": "markdown",
      "metadata": {
        "id": "SoYOpcVKmqft"
      },
      "source": [
        "# 8번"
      ]
    },
    {
      "cell_type": "code",
      "metadata": {
        "colab": {
          "base_uri": "https://localhost:8080/"
        },
        "id": "4meNyEnDmsWz",
        "outputId": "9463a51f-9c8f-40a2-86c0-ba041db393a4"
      },
      "source": [
        "d = {'height':180, 'weight':78, 'weight':84, 'temparture':36, 'eyesight':1}\n",
        "print(d['weight'])"
      ],
      "execution_count": 25,
      "outputs": [
        {
          "output_type": "stream",
          "text": [
            "84\n"
          ],
          "name": "stdout"
        }
      ]
    },
    {
      "cell_type": "code",
      "metadata": {
        "colab": {
          "base_uri": "https://localhost:8080/"
        },
        "id": "uzDauQhKnOUf",
        "outputId": "9d6f3507-74b2-4f19-b965-a80dea25b93b"
      },
      "source": [
        "print(d)"
      ],
      "execution_count": 27,
      "outputs": [
        {
          "output_type": "stream",
          "text": [
            "{'height': 180, 'weight': 84, 'temparture': 36, 'eyesight': 1}\n"
          ],
          "name": "stdout"
        }
      ]
    },
    {
      "cell_type": "code",
      "metadata": {
        "colab": {
          "base_uri": "https://localhost:8080/"
        },
        "id": "VvBFxqeNnQK4",
        "outputId": "f9c9ef7e-e43a-48b3-ba5d-bd943b303d42"
      },
      "source": [
        "!python -V"
      ],
      "execution_count": 30,
      "outputs": [
        {
          "output_type": "stream",
          "text": [
            "Python 3.7.10\n"
          ],
          "name": "stdout"
        }
      ]
    },
    {
      "cell_type": "code",
      "metadata": {
        "colab": {
          "base_uri": "https://localhost:8080/"
        },
        "id": "x2SBL3fNncCm",
        "outputId": "a99dc489-0638-44f7-c5cf-50f9399c9f14"
      },
      "source": [
        "d['weight'] = 100\n",
        "print(d)"
      ],
      "execution_count": 31,
      "outputs": [
        {
          "output_type": "stream",
          "text": [
            "{'height': 180, 'weight': 100, 'temparture': 36, 'eyesight': 1}\n"
          ],
          "name": "stdout"
        }
      ]
    },
    {
      "cell_type": "code",
      "metadata": {
        "colab": {
          "base_uri": "https://localhost:8080/"
        },
        "id": "gG-IdHCXnkvk",
        "outputId": "30f50f5a-6b2b-4ffd-871f-7db61f9f37d7"
      },
      "source": [
        "d['aa'] = 100\n",
        "print(d)"
      ],
      "execution_count": 33,
      "outputs": [
        {
          "output_type": "stream",
          "text": [
            "{'height': 180, 'weight': 100, 'temparture': 36, 'eyesight': 1, 'aa': 100}\n"
          ],
          "name": "stdout"
        }
      ]
    },
    {
      "cell_type": "code",
      "metadata": {
        "colab": {
          "base_uri": "https://localhost:8080/"
        },
        "id": "cRcL34SRns7l",
        "outputId": "d1e53db3-eb7e-48f9-bd69-257df83732ec"
      },
      "source": [
        "d['bb'] = 100\n",
        "print(d)"
      ],
      "execution_count": 35,
      "outputs": [
        {
          "output_type": "stream",
          "text": [
            "{'height': 180, 'weight': 100, 'temparture': 36, 'eyesight': 1, 'aa': 100, 'bb': 100}\n"
          ],
          "name": "stdout"
        }
      ]
    },
    {
      "cell_type": "code",
      "metadata": {
        "colab": {
          "base_uri": "https://localhost:8080/"
        },
        "id": "_hLxtemCnz7x",
        "outputId": "948a3540-8c29-43cd-c0dc-0ab1ffeb73b6"
      },
      "source": [
        "for i in d:\n",
        "  print(i)"
      ],
      "execution_count": 38,
      "outputs": [
        {
          "output_type": "stream",
          "text": [
            "height\n",
            "weight\n",
            "temparture\n",
            "eyesight\n",
            "aa\n",
            "bb\n"
          ],
          "name": "stdout"
        }
      ]
    },
    {
      "cell_type": "markdown",
      "metadata": {
        "id": "MZaBpt-IoAUY"
      },
      "source": [
        "# 9번"
      ]
    },
    {
      "cell_type": "code",
      "metadata": {
        "colab": {
          "base_uri": "https://localhost:8080/"
        },
        "id": "LKtTnqk9oCCA",
        "outputId": "9a1e5bf0-7713-4a1e-9810-2e59f64a323d"
      },
      "source": [
        "year = '2019'\n",
        "month = '04'\n",
        "day = '26'\n",
        "hour = '11'\n",
        "minute = '34'\n",
        "second = '27'\n",
        "\n",
        "print(year, month, day)\n",
        "print(hour, minute, second)"
      ],
      "execution_count": 39,
      "outputs": [
        {
          "output_type": "stream",
          "text": [
            "2019 04 26\n",
            "11 34 27\n"
          ],
          "name": "stdout"
        }
      ]
    },
    {
      "cell_type": "code",
      "metadata": {
        "colab": {
          "base_uri": "https://localhost:8080/"
        },
        "id": "OVT2Gel3oiGS",
        "outputId": "cd4ecb2c-b935-4a04-96b7-a637ec797348"
      },
      "source": [
        "print(year, month, day, end=' ', sep='/')\n",
        "print(hour, minute, second, sep=':')"
      ],
      "execution_count": 40,
      "outputs": [
        {
          "output_type": "stream",
          "text": [
            "2019/04/26 11:34:27\n"
          ],
          "name": "stdout"
        }
      ]
    },
    {
      "cell_type": "markdown",
      "metadata": {
        "id": "o8VOqJLco1AY"
      },
      "source": [
        "# 10번\n",
        "\n",
        "```\n",
        "    *\n",
        "   ***\n",
        "  *****\n",
        " *******\n",
        "*********\n",
        "```"
      ]
    },
    {
      "cell_type": "code",
      "metadata": {
        "colab": {
          "base_uri": "https://localhost:8080/"
        },
        "id": "ijgdihI2o2gD",
        "outputId": "52f60aae-bd1e-4497-b0f8-bd2a1fd2ba26"
      },
      "source": [
        "'''\n",
        "4     1\n",
        "3     3\n",
        "2     5\n",
        "1     7\n",
        "0     9\n",
        "n-i   2i-1\n",
        "'''\n",
        "\n",
        "n = 5\n",
        "for i in range(1, n + 1):\n",
        "  #print(n-i, 2*i-1)\n",
        "  print((' '* (n-i)) + ('*' * (2*i-1)))"
      ],
      "execution_count": 46,
      "outputs": [
        {
          "output_type": "stream",
          "text": [
            "    *\n",
            "   ***\n",
            "  *****\n",
            " *******\n",
            "*********\n"
          ],
          "name": "stdout"
        }
      ]
    },
    {
      "cell_type": "code",
      "metadata": {
        "id": "LONgS_t9o8zI"
      },
      "source": [
        ""
      ],
      "execution_count": null,
      "outputs": []
    }
  ]
}