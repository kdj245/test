{
  "nbformat": 4,
  "nbformat_minor": 0,
  "metadata": {
    "colab": {
      "name": "1-colab.ipynb",
      "provenance": [],
      "authorship_tag": "ABX9TyMfBuCLfWbAxcHN0/Ztdbt5",
      "include_colab_link": true
    },
    "kernelspec": {
      "name": "python3",
      "display_name": "Python 3"
    },
    "language_info": {
      "name": "python"
    }
  },
  "cells": [
    {
      "cell_type": "markdown",
      "metadata": {
        "id": "view-in-github",
        "colab_type": "text"
      },
      "source": [
        "<a href=\"https://colab.research.google.com/github/kdj245/test/blob/main/1_colab.ipynb\" target=\"_parent\"><img src=\"https://colab.research.google.com/assets/colab-badge.svg\" alt=\"Open In Colab\"/></a>"
      ]
    },
    {
      "cell_type": "code",
      "metadata": {
        "id": "4LrqWemJTeb6"
      },
      "source": [
        "# 코랩업로드 연습니다.\n",
        "\n",
        "import turtle #turtle모듈을 불러온다.\n",
        "t = turtle.Turtle() #turtle을 t로 선얼 import turtle as t 할 수 있다.\n",
        "t.shape(\"turtle\");  #turtle모듈의 아이콘을 거북이 모양으로 선언\n",
        "                    #기본 아이콘은 classsic, 삼각형은 triangle. 원은 circle\n",
        "t.forward(100); # 100픽셀만큼 직진 (이동 길이=각 변으니 길이)\n",
        "t.left(120);    # 120도 회전(회전각도 즉, 외각이 120도를 이뤄야 정삼각형 내각60도가 만들어진다.)\n",
        "t.forward(100);\n",
        "t.left(120);\n",
        "t.forward(100);\n",
        "t.left(120);"
      ],
      "execution_count": null,
      "outputs": []
    }
  ]
}